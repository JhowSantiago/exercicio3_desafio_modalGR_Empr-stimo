{
  "nbformat": 4,
  "nbformat_minor": 0,
  "metadata": {
    "colab": {
      "provenance": [],
      "authorship_tag": "ABX9TyNl20l6paFJfnEsL2OaWtPL",
      "include_colab_link": true
    },
    "kernelspec": {
      "name": "python3",
      "display_name": "Python 3"
    },
    "language_info": {
      "name": "python"
    }
  },
  "cells": [
    {
      "cell_type": "markdown",
      "metadata": {
        "id": "view-in-github",
        "colab_type": "text"
      },
      "source": [
        "<a href=\"https://colab.research.google.com/github/JhowSantiago/exercicio3_desafio_modalGR_Emprestimo/blob/main/Progama_de_empr%C3%A9stimo.ipynb\" target=\"_parent\"><img src=\"https://colab.research.google.com/assets/colab-badge.svg\" alt=\"Open In Colab\"/></a>"
      ]
    },
    {
      "cell_type": "markdown",
      "source": [
        "# PROGRAMA DE EMPRÉSTIMO PARA OS COLABORADORES"
      ],
      "metadata": {
        "id": "q88ryjgt0f9D"
      }
    },
    {
      "cell_type": "markdown",
      "source": [
        "# Mensagem"
      ],
      "metadata": {
        "id": "kU6AeYAGVB4A"
      }
    },
    {
      "cell_type": "code",
      "source": [
        "def Mensagem():\n",
        "  mensagens = [\n",
        "    \"Notas de maior valor: considerando primeiramente as notas de 100 e 50 reais, e em seguida, as inferiores\",\n",
        "    \"Notas de menor valor: considerando as notas de 20, 10, 5 e 2 reais.\",\n",
        "    \"Notas meio a meio: metade do valor em notas maiores e a outra metade em notas menores. \\n\"\n",
        "]\n",
        "  for mensagem in mensagens:\n",
        "      print(mensagem)"
      ],
      "metadata": {
        "id": "mkye-mBtFSP6"
      },
      "execution_count": null,
      "outputs": []
    },
    {
      "cell_type": "code",
      "source": [
        "def Opcoes():\n",
        "  opcoes = [\n",
        "    \"Digite 1: Para notas de maior valor\",\n",
        "    \"Digite 2: Para notas de menor valor\",\n",
        "    \"Digite 3: Para notas meio a meio\\n\"\n",
        "]\n",
        "  for mensagem in opcoes:\n",
        "      print(mensagem)"
      ],
      "metadata": {
        "id": "3-ya-i3cXVjo"
      },
      "execution_count": null,
      "outputs": []
    },
    {
      "cell_type": "markdown",
      "source": [
        "# Calculo da Retirada das Notas"
      ],
      "metadata": {
        "id": "Nl6y7AUbU7hg"
      }
    },
    {
      "cell_type": "code",
      "source": [
        "def RetiradaNotasMaior(valor_emprestimo):\n",
        "  #Lista contendo as notas de Maior Valor\n",
        "  notas_valores = [100, 50, 20, 10, 5, 2]\n",
        "\n",
        "  print(\"Notas de maior valor: \")\n",
        "\n",
        "  for nota_valor in notas_valores:\n",
        "      notas = valor_emprestimo // nota_valor\n",
        "      if notas > 0:\n",
        "        print(f\"➢ {notas} nota(s) de R$ {nota_valor:.2f}\")\n",
        "      valor_emprestimo -= notas * nota_valor\n",
        "\n",
        "  print()"
      ],
      "metadata": {
        "id": "iIXpOQcDEC8p"
      },
      "execution_count": null,
      "outputs": []
    },
    {
      "cell_type": "code",
      "source": [
        "def RetiradaNotasMenor(valor_emprestimo):\n",
        "  #lista contendo as Notas de menor valor\n",
        "  notas_valores = [20, 10, 5, 2]\n",
        "\n",
        "  print(\"Notas de menor valor: \")\n",
        "\n",
        "  for nota_valor in notas_valores:\n",
        "      notas = valor_emprestimo // nota_valor\n",
        "      if notas > 0:\n",
        "        print(f\"➢ {notas} nota(s) de R$ {nota_valor:.2f}\")\n",
        "      valor_emprestimo -= notas * nota_valor\n",
        "\n",
        "  print()"
      ],
      "metadata": {
        "id": "WQpSISTHPsVw"
      },
      "execution_count": null,
      "outputs": []
    },
    {
      "cell_type": "code",
      "source": [
        "def RetiradaNotasMeio(valor_emprestimo):\n",
        "  #lista contendo todas Notas de menor valor\n",
        "  notas_valores_menor = [20, 10, 5, 2]\n",
        "  notas_valores_maior = [100, 50,20, 10, 5, 2]\n",
        "  print(\"Notas meio a meio:: \")\n",
        "\n",
        "  valor_emprestimo_maior = valor_emprestimo // 2\n",
        "  valor_emprestimo_menor = valor_emprestimo // 2\n",
        "\n",
        "  print(f\"R$ {valor_emprestimo_maior} reais em notas de maior valor:\")\n",
        "  for nota_valor in notas_valores_maior:\n",
        "      notas = valor_emprestimo_maior // nota_valor\n",
        "      if notas > 0:\n",
        "        print(f\"➢ {notas} nota(s) de R$ {nota_valor:.2f}\")\n",
        "      valor_emprestimo_maior -= notas * nota_valor\n",
        "\n",
        "  print()\n",
        "  print(f\"R$ {valor_emprestimo_menor} reais em notas de menor valor:\")\n",
        "  for nota_valor in notas_valores_menor:\n",
        "      notas = valor_emprestimo_menor // nota_valor\n",
        "      if notas > 0:\n",
        "        print(f\"➢ {notas} nota(s) de R$ {nota_valor:.2f}\")\n",
        "      valor_emprestimo_menor -= notas * nota_valor\n",
        "\n",
        "  print()"
      ],
      "metadata": {
        "id": "UDtn7XHzNmC3"
      },
      "execution_count": null,
      "outputs": []
    },
    {
      "cell_type": "markdown",
      "source": [
        "# Aplicação"
      ],
      "metadata": {
        "id": "O-92UzEwZoLY"
      }
    },
    {
      "cell_type": "markdown",
      "source": [
        "## Entrada das informações do colaborador"
      ],
      "metadata": {
        "id": "2sKC6j-KD7wl"
      }
    },
    {
      "cell_type": "code",
      "source": [
        "try:\n",
        "    nome_colaborador = input(\"Nome do colaborador: \")\n",
        "\n",
        "    tempo_colaborador = float(input(\"Data de admissão: \"))\n",
        "    if tempo_colaborador <= 5:\n",
        "      raise ValueError(\"Agradecemos seu interesse, mas você não atende os requisitos mínimos do programa.\")\n",
        "\n",
        "    salario = int(input(\"Salário atual: \"))\n",
        "    if salario <= 0:\n",
        "      raise ValueError(\"O salário deve ser um valor inteiro positivo.\")\n",
        "\n",
        "    valor_emprestimo = int(input(\"Valor de empréstimo: \"))\n",
        "    if valor_emprestimo > salario * 2 and valor_emprestimo % 2 != 0:\n",
        "      raise ValueError(\"Insira um valor válido!, Valor do empréstimo não pode ultrapassar 2 vazes o valor do salário e deve ser múltiplo de 2.\")\n",
        "except ValueError as e:\n",
        "    print(f\"Erro: {e}\")\n"
      ],
      "metadata": {
        "colab": {
          "base_uri": "https://localhost:8080/"
        },
        "id": "9A2moB711Fwr",
        "outputId": "1cf14a1d-3e7b-4b86-c5f0-21ffc791e10b"
      },
      "execution_count": 142,
      "outputs": [
        {
          "name": "stdout",
          "output_type": "stream",
          "text": [
            "Nome do colaborador: Jonathan Santiago Relva\n",
            "Data de admissão: 6\n",
            "Salário atual: 4275\n",
            "Valor de empréstimo: 8550\n"
          ]
        }
      ]
    },
    {
      "cell_type": "markdown",
      "source": [
        "## Retirada do dinheiro"
      ],
      "metadata": {
        "id": "8k__0yGmV7wg"
      }
    },
    {
      "cell_type": "code",
      "source": [
        "Mensagem()\n",
        "\n",
        "print(\"Opções de Retirada:\\n\")\n",
        "RetiradaNotasMaior(valor_emprestimo)\n",
        "RetiradaNotasMenor(valor_emprestimo)\n",
        "RetiradaNotasMeio(valor_emprestimo)\n",
        "\n",
        "Opcoes()\n",
        "\n",
        "opcao = int(input(\"Digito: \"))\n",
        "\n",
        "if opcao == 1:\n",
        "  print(\"Sacando\")\n",
        "  RetiradaNotasMaior(valor_emprestimo)\n",
        "elif opcao == 2:\n",
        "  print(\"Sacando \")\n",
        "  RetiradaNotasMenor(valor_emprestimo)\n",
        "elif opcao == 3:\n",
        "  print(\"Sacando \")\n",
        "  RetiradaNotasMeio(valor_emprestimo)\n",
        "else:\n",
        "  print(\"Digite uma opção válida\")\n"
      ],
      "metadata": {
        "colab": {
          "base_uri": "https://localhost:8080/"
        },
        "id": "MAV8o0E_WS9j",
        "outputId": "d38fcd97-2837-4189-899c-6902e5156109"
      },
      "execution_count": 143,
      "outputs": [
        {
          "output_type": "stream",
          "name": "stdout",
          "text": [
            "Notas de maior valor: considerando primeiramente as notas de 100 e 50 reais, e em seguida, as inferiores\n",
            "Notas de menor valor: considerando as notas de 20, 10, 5 e 2 reais.\n",
            "Notas meio a meio: metade do valor em notas maiores e a outra metade em notas menores. \n",
            "\n",
            "Opções de Retirada:\n",
            "\n",
            "Notas de maior valor: \n",
            "➢ 85 nota(s) de R$ 100.00\n",
            "➢ 1 nota(s) de R$ 50.00\n",
            "\n",
            "Notas de menor valor: \n",
            "➢ 427 nota(s) de R$ 20.00\n",
            "➢ 1 nota(s) de R$ 10.00\n",
            "\n",
            "Notas meio a meio:: \n",
            "R$ 4275 reais em notas de maior valor:\n",
            "➢ 42 nota(s) de R$ 100.00\n",
            "➢ 1 nota(s) de R$ 50.00\n",
            "➢ 1 nota(s) de R$ 20.00\n",
            "➢ 1 nota(s) de R$ 5.00\n",
            "\n",
            "R$ 4275 reais em notas de menor valor:\n",
            "➢ 213 nota(s) de R$ 20.00\n",
            "➢ 1 nota(s) de R$ 10.00\n",
            "➢ 1 nota(s) de R$ 5.00\n",
            "\n",
            "Digite 1: Para notas de maior valor\n",
            "Digite 2: Para notas de menor valor\n",
            "Digite 3: Para notas meio a meio\n",
            "\n",
            "Digito: 3\n",
            "Sacando \n",
            "Notas meio a meio:: \n",
            "R$ 4275 reais em notas de maior valor:\n",
            "➢ 42 nota(s) de R$ 100.00\n",
            "➢ 1 nota(s) de R$ 50.00\n",
            "➢ 1 nota(s) de R$ 20.00\n",
            "➢ 1 nota(s) de R$ 5.00\n",
            "\n",
            "R$ 4275 reais em notas de menor valor:\n",
            "➢ 213 nota(s) de R$ 20.00\n",
            "➢ 1 nota(s) de R$ 10.00\n",
            "➢ 1 nota(s) de R$ 5.00\n",
            "\n"
          ]
        }
      ]
    }
  ]
}